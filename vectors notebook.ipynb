{
 "cells": [
  {
   "cell_type": "markdown",
   "id": "cf730715",
   "metadata": {},
   "source": [
    "# Vectors"
   ]
  },
  {
   "cell_type": "markdown",
   "id": "0d2b7fa5",
   "metadata": {},
   "source": [
    "## Required Libraries import"
   ]
  },
  {
   "cell_type": "code",
   "execution_count": 1,
   "id": "1a79d4f4",
   "metadata": {},
   "outputs": [],
   "source": [
    "import pandas as pd\n",
    "import numpy as np \n",
    "import matplotlib.pyplot as plt\n",
    "import seaborn as sns "
   ]
  },
  {
   "cell_type": "markdown",
   "id": "e9def20e",
   "metadata": {},
   "source": [
    "## Vectors"
   ]
  },
  {
   "cell_type": "markdown",
   "id": "bc51b170",
   "metadata": {},
   "source": [
    "    can be implemented with \n",
    "        list  \n",
    "        numpy array"
   ]
  },
  {
   "cell_type": "markdown",
   "id": "d69b938e",
   "metadata": {},
   "source": [
    "### 2D Vector"
   ]
  },
  {
   "cell_type": "code",
   "execution_count": 59,
   "id": "df4fa589",
   "metadata": {},
   "outputs": [
    {
     "name": "stdout",
     "output_type": "stream",
     "text": [
      "the two dim vector with the help of list v1 = [2, 3]  \n",
      "the two dim vector with the help of numpy array v2 = [4 5] \n"
     ]
    }
   ],
   "source": [
    "v1 = [2,3]\n",
    "print(f\"the two dim vector with the help of list v1 = {v1} \")\n",
    "v2 = np.array([4,5])\n",
    "print(f\"the two dim vector with the help of numpy array v2 = {v2} \")"
   ]
  },
  {
   "cell_type": "markdown",
   "id": "b468e47e",
   "metadata": {},
   "source": [
    "### 2D Vector plot"
   ]
  },
  {
   "cell_type": "code",
   "execution_count": 65,
   "id": "c9710f99",
   "metadata": {},
   "outputs": [
    {
     "name": "stdout",
     "output_type": "stream",
     "text": [
      "x_dim of v1 and v2 (2, 4)\n",
      "y_dim of v1 and v2 (3, 5)\n"
     ]
    }
   ],
   "source": [
    "x_dim, y_dim = (v1[0],v2[0]) , (v1[1],v2[1])    \n",
    "print(f\"x_dim of v1 and v2 {x_dim}\")\n",
    "print(f\"y_dim of v1 and v2 {y_dim}\")"
   ]
  },
  {
   "cell_type": "markdown",
   "id": "b05c0274",
   "metadata": {},
   "source": [
    "### point representation of vector"
   ]
  },
  {
   "cell_type": "code",
   "execution_count": 63,
   "id": "1963af32",
   "metadata": {},
   "outputs": [
    {
     "data": {
      "image/png": "[encoded data removed]",
      "text/plain": [
       "<Figure size 432x288 with 1 Axes>"
      ]
     },
     "metadata": {
      "needs_background": "light"
     },
     "output_type": "display_data"
    }
   ],
   "source": [
    "plt.scatter(x =v1[0],y = v1[1], color = \"r\")\n",
    "plt.scatter(x =v2[0],y = v2[1], color = \"b\")\n",
    "plt.grid()\n",
    "plt.axis([0,5,0,6])\n",
    "plt.xlabel(\"X axis\")\n",
    "plt.ylabel(\"Y axis\")\n",
    "plt.show()"
   ]
  },
  {
   "cell_type": "markdown",
   "id": "377c94f8",
   "metadata": {},
   "source": [
    "### arrow representation of vector"
   ]
  },
  {
   "cell_type": "code",
   "execution_count": 71,
   "id": "e71ab240",
   "metadata": {},
   "outputs": [
    {
     "data": {
      "image/png": "[encoded data removed]",
      "text/plain": [
       "<Figure size 432x288 with 1 Axes>"
      ]
     },
     "metadata": {
      "needs_background": "light"
     },
     "output_type": "display_data"
    }
   ],
   "source": [
    "plt.arrow(x=0,y=0, dx=v1[0],dy=v1[1], length_includes_head=True,head_width=0.2, head_length=0.3,color=\"r\")\n",
    "plt.arrow(x=0,y=0, dx=v2[0],dy=v2[1], length_includes_head=True,head_width=0.2, head_length=0.3,color=\"b\")\n",
    "plt.grid()\n",
    "plt.axis([0,5,0,6])\n",
    "plt.xlabel(\"x-axis\")\n",
    "plt.ylabel(\"y-axis\")\n",
    "plt.show()"
   ]
  },
  {
   "cell_type": "markdown",
   "id": "029bf855",
   "metadata": {},
   "source": [
    "### Alternative approach "
   ]
  },
  {
   "cell_type": "code",
   "execution_count": 55,
   "id": "f3f15684",
   "metadata": {},
   "outputs": [
    {
     "name": "stdout",
     "output_type": "stream",
     "text": [
      "x_dim of v1 and v2 (3, 2)\n",
      "y_dim of v1 and v2 (4, 5)\n"
     ]
    }
   ],
   "source": [
    "x_dim, y_dim = zip(v1,v2)     \n",
    "print(f\"x_dim of v1 and v2 {x_dim}\")\n",
    "print(f\"y_dim of v1 and v2 {y_dim}\")"
   ]
  },
  {
   "cell_type": "code",
   "execution_count": 57,
   "id": "3a1c7ada",
   "metadata": {},
   "outputs": [
    {
     "data": {
      "image/png": "[encoded data removed]",
      "text/plain": [
       "<Figure size 432x288 with 1 Axes>"
      ]
     },
     "metadata": {
      "needs_background": "light"
     },
     "output_type": "display_data"
    }
   ],
   "source": [
    "plt.scatter(x_dim, y_dim, color=[\"r\",\"b\"])\n",
    "plt.axis([0, 9, 0, 6])\n",
    "plt.grid()\n",
    "plt.show()"
   ]
  },
  {
   "cell_type": "markdown",
   "id": "560e1e9f",
   "metadata": {},
   "source": [
    "## 3D Vector"
   ]
  },
  {
   "cell_type": "code",
   "execution_count": 3,
   "id": "103c0be0",
   "metadata": {},
   "outputs": [
    {
     "name": "stdout",
     "output_type": "stream",
     "text": [
      "the three dim vector with the help of list w1 = [1, 2, 8] \n",
      "the three dim vector with the help of numpy array w2 = [1, 2, 8] \n"
     ]
    }
   ],
   "source": [
    "w1 = [1,2,8]\n",
    "print(f\"the three dim vector with the help of list w1 = {w1} \")\n",
    "w2 = np.array([5,6,3])\n",
    "print(f\"the three dim vector with the help of numpy array w2 = {w1} \")"
   ]
  },
  {
   "cell_type": "code",
   "execution_count": 8,
   "id": "74788832",
   "metadata": {},
   "outputs": [
    {
     "name": "stdout",
     "output_type": "stream",
     "text": [
      "x_dim of w1 and v2 (1, 5)\n",
      "y_dim of w1 and v2 (2, 6)\n",
      "Z_dim of w1 and v2 (2, 6)\n"
     ]
    }
   ],
   "source": [
    "x_dim, y_dim, z_dim = zip(w1,w2)\n",
    "print(f\"x_dim of w1 and v2 {x_dim}\")\n",
    "print(f\"y_dim of w1 and v2 {y_dim}\")\n",
    "print(f\"Z_dim of w1 and v2 {y_dim}\")"
   ]
  },
  {
   "cell_type": "code",
   "execution_count": 5,
   "id": "90b94b54",
   "metadata": {},
   "outputs": [
    {
     "data": {
      "image/png": "[encoded data removed]",
      "text/plain": [
       "<Figure size 576x576 with 1 Axes>"
      ]
     },
     "metadata": {
      "needs_background": "light"
     },
     "output_type": "display_data"
    }
   ],
   "source": [
    "import matplotlib.pyplot as plt\n",
    "from mpl_toolkits.mplot3d import Axes3D\n",
    "plt.figure(figsize=(8,8))\n",
    "subplot3d = plt.subplot(111, projection='3d')\n",
    "x_coords, y_coords, z_coords = zip(w1,w2)\n",
    "subplot3d.scatter(x_coords, y_coords, z_coords)\n",
    "subplot3d.set_zlim3d([0, 9])\n",
    "plt.show()"
   ]
  },
  {
   "cell_type": "markdown",
   "id": "c8447c74",
   "metadata": {},
   "source": [
    "## Vector Norm"
   ]
  },
  {
   "cell_type": "markdown",
   "id": "65cc9f2e",
   "metadata": {},
   "source": [
    "## Vector"
   ]
  },
  {
   "cell_type": "code",
   "execution_count": 50,
   "id": "c9984052",
   "metadata": {},
   "outputs": [
    {
     "data": {
      "image/png": "[encoded data removed]",
      "text/plain": [
       "<Figure size 216x216 with 1 Axes>"
      ]
     },
     "metadata": {
      "needs_background": "light"
     },
     "output_type": "display_data"
    }
   ],
   "source": [
    "u = np.array([2, 5])\n",
    "plt.figure(figsize=(3,3))\n",
    "plt.arrow(x=0,y=0, dx=u[0],dy=u[1], length_includes_head=True,head_width=0.2, head_length=0.3,color=\"r\")\n",
    "plt.grid()\n",
    "plt.title(f\"the 2D vector u = {u} \")\n",
    "plt.axis([0,5,0,6])\n",
    "plt.xlabel(\"x-axis\")\n",
    "plt.ylabel(\"y-axis\")\n",
    "plt.show()\n"
   ]
  },
  {
   "cell_type": "markdown",
   "id": "b7dbdd3c",
   "metadata": {},
   "source": [
    "### L1 Norm"
   ]
  },
  {
   "cell_type": "code",
   "execution_count": 15,
   "id": "d6e9a7c0",
   "metadata": {},
   "outputs": [
    {
     "name": "stdout",
     "output_type": "stream",
     "text": [
      "|| [2 5] || = 7\n"
     ]
    }
   ],
   "source": [
    "def vector_normL1(vector):\n",
    "    squares = [dim for dim in vector]\n",
    "    return sum(squares)\n",
    "\n",
    "u = np.array([2, 5])\n",
    "print(\"||\", u, \"|| =\", vector_normL1(u))\n"
   ]
  },
  {
   "cell_type": "code",
   "execution_count": 16,
   "id": "da3a546e",
   "metadata": {},
   "outputs": [
    {
     "data": {
      "text/plain": [
       "7.0"
      ]
     },
     "execution_count": 16,
     "metadata": {},
     "output_type": "execute_result"
    }
   ],
   "source": [
    "import numpy.linalg as LA\n",
    "LA.norm(u, ord=1) "
   ]
  },
  {
   "cell_type": "code",
   "execution_count": 39,
   "id": "df2b2d97",
   "metadata": {},
   "outputs": [
    {
     "data": {
      "image/png": "[encoded data removed]",
      "text/plain": [
       "<Figure size 432x288 with 1 Axes>"
      ]
     },
     "metadata": {
      "needs_background": "light"
     },
     "output_type": "display_data"
    }
   ],
   "source": [
    "plt.scatter(u[0], u[1], color=\"r\")\n",
    "plt.plot([0, 2], [0, 0],color=\"b\")\n",
    "plt.plot([2,2], [0, 5],color=\"b\")\n",
    "plt.grid()\n",
    "plt.axis([0,5,0,6])\n",
    "plt.xlabel(\"x-axis\")\n",
    "plt.ylabel(\"y-axis\")\n",
    "plt.show()"
   ]
  },
  {
   "cell_type": "markdown",
   "id": "aaf459f0",
   "metadata": {},
   "source": [
    "### L2 Norm"
   ]
  },
  {
   "cell_type": "code",
   "execution_count": 11,
   "id": "38d4451b",
   "metadata": {},
   "outputs": [
    {
     "name": "stdout",
     "output_type": "stream",
     "text": [
      "|| [2 5] || = 5.385164807134504\n"
     ]
    }
   ],
   "source": [
    "def vector_norm(vector):\n",
    "    squares = [dim**2 for dim in vector]\n",
    "    return sum(squares)**0.5\n",
    "\n",
    "u = np.array([2, 5])\n",
    "print(\"||\", u, \"|| =\", vector_norm(u))\n"
   ]
  },
  {
   "cell_type": "code",
   "execution_count": 12,
   "id": "0823e917",
   "metadata": {},
   "outputs": [
    {
     "data": {
      "text/plain": [
       "5.385164807134504"
      ]
     },
     "execution_count": 12,
     "metadata": {},
     "output_type": "execute_result"
    }
   ],
   "source": [
    "import numpy.linalg as LA\n",
    "LA.norm(u) "
   ]
  },
  {
   "cell_type": "code",
   "execution_count": 51,
   "id": "c2dfaa8c",
   "metadata": {},
   "outputs": [
    {
     "data": {
      "text/plain": [
       "5.385164807134504"
      ]
     },
     "execution_count": 51,
     "metadata": {},
     "output_type": "execute_result"
    }
   ],
   "source": [
    "LA.norm(u) "
   ]
  },
  {
   "cell_type": "code",
   "execution_count": 43,
   "id": "0639d1a2",
   "metadata": {},
   "outputs": [
    {
     "data": {
      "image/png": "[encoded data removed]",
      "text/plain": [
       "<Figure size 432x288 with 1 Axes>"
      ]
     },
     "metadata": {
      "needs_background": "light"
     },
     "output_type": "display_data"
    }
   ],
   "source": [
    "plt.scatter(u[0], u[1], color=\"r\")\n",
    "plt.arrow(x=0,y=0, dx=u[0],dy=u[1], color=\"b\")\n",
    "plt.grid()\n",
    "plt.axis([0,5,0,6])\n",
    "plt.xlabel(\"x-axis\")\n",
    "plt.ylabel(\"y-axis\")\n",
    "plt.show()"
   ]
  },
  {
   "cell_type": "markdown",
   "id": "bfe8271a",
   "metadata": {},
   "source": [
    "## Vector Addition"
   ]
  },
  {
   "cell_type": "code",
   "execution_count": 2,
   "id": "cf597326",
   "metadata": {},
   "outputs": [
    {
     "name": "stdout",
     "output_type": "stream",
     "text": [
      "the two dim vector  v = [4 2] \n",
      "the two dim vector u = [-1  2] \n"
     ]
    }
   ],
   "source": [
    "v = np.array([4,2])\n",
    "u = np.array([-1,2])\n",
    "\n",
    "print(f\"the two dim vector  v = {v} \")\n",
    "print(f\"the two dim vector u = {u} \")"
   ]
  },
  {
   "cell_type": "code",
   "execution_count": 7,
   "id": "45134c8f",
   "metadata": {},
   "outputs": [
    {
     "name": "stdout",
     "output_type": "stream",
     "text": [
      "  [-1  2]\n",
      "+ [4 2]\n",
      "----------\n",
      "[3 4]\n"
     ]
    }
   ],
   "source": [
    "print(\" \", u)\n",
    "print(\"+\", v)\n",
    "print(\"-\"*10)\n",
    "q = u + v\n",
    "print(q)"
   ]
  },
  {
   "cell_type": "markdown",
   "id": "08c69e7f",
   "metadata": {},
   "source": [
    "### Function for vector plot"
   ]
  },
  {
   "cell_type": "code",
   "execution_count": 4,
   "id": "dcc7b570",
   "metadata": {},
   "outputs": [],
   "source": [
    "def plot_2Dvector_arrow(vector, x,y, **color):\n",
    "    plt.arrow(x=0,y=0 , dx =vector[0] ,dy = vector[1],**color,length_includes_head=True,head_width=0.2, head_length=0.3)\n",
    "    plt.axis([-2,x,0,y])\n",
    "    plt.xlabel(\"X axis\")\n",
    "    plt.ylabel(\"Y axis\")"
   ]
  },
  {
   "cell_type": "markdown",
   "id": "d3f1a1c8",
   "metadata": {},
   "source": [
    "### Vector addition plot"
   ]
  },
  {
   "cell_type": "code",
   "execution_count": 16,
   "id": "6025ceff",
   "metadata": {},
   "outputs": [
    {
     "data": {
      "image/png": "[encoded data removed]",
      "text/plain": [
       "<Figure size 432x288 with 1 Axes>"
      ]
     },
     "metadata": {
      "needs_background": "light"
     },
     "output_type": "display_data"
    }
   ],
   "source": [
    "plot_2Dvector_arrow(v, 6,6, color = \"r\")\n",
    "plot_2Dvector_arrow(u, 6,6, color = \"r\")\n",
    "plot_2Dvector_arrow(q, 6,6, color = \"b\")\n",
    "plt.plot([4,3], [2,4],color=\"g\",linestyle='dotted')\n",
    "plt.plot([-1,3], [2, 4],color=\"g\",linestyle='dotted')\n",
    "plt.grid()\n",
    "plt.show()"
   ]
  },
  {
   "cell_type": "markdown",
   "id": "0058ee33",
   "metadata": {},
   "source": [
    "## Vector Multiplication"
   ]
  },
  {
   "cell_type": "markdown",
   "id": "12f92b71",
   "metadata": {},
   "source": [
    "## Multiplication by Scaler"
   ]
  },
  {
   "cell_type": "code",
   "execution_count": 34,
   "id": "962c0beb",
   "metadata": {},
   "outputs": [
    {
     "name": "stdout",
     "output_type": "stream",
     "text": [
      "1.5 * [4 2] = [6. 3.]\n"
     ]
    }
   ],
   "source": [
    "n = 1.5 * v\n",
    "print(\"1.5 *\", v, \"=\",n )"
   ]
  },
  {
   "cell_type": "markdown",
   "id": "88ffcb97",
   "metadata": {},
   "source": [
    "## Plot"
   ]
  },
  {
   "cell_type": "code",
   "execution_count": 35,
   "id": "dbe76ef3",
   "metadata": {},
   "outputs": [
    {
     "data": {
      "image/png": "[encoded data removed]",
      "text/plain": [
       "<Figure size 432x288 with 1 Axes>"
      ]
     },
     "metadata": {
      "needs_background": "light"
     },
     "output_type": "display_data"
    }
   ],
   "source": [
    "plot_2Dvector_arrow(n, 6,6, color = \"r\")\n",
    "plot_2Dvector_arrow(v, 6,6, color = \"b\")\n",
    "plt.grid()\n",
    "plt.show()"
   ]
  },
  {
   "cell_type": "markdown",
   "id": "ad668316",
   "metadata": {},
   "source": [
    "## Dot Product"
   ]
  },
  {
   "cell_type": "code",
   "execution_count": 36,
   "id": "680f4703",
   "metadata": {},
   "outputs": [
    {
     "name": "stdout",
     "output_type": "stream",
     "text": [
      "the two dim vector  v = [4 2] \n",
      "the two dim vector u = [-1  2] \n"
     ]
    }
   ],
   "source": [
    "v = np.array([4,2])\n",
    "u = np.array([-1,2])\n",
    "print(f\"the two dim vector  v = {v} \")\n",
    "print(f\"the two dim vector u = {u} \")"
   ]
  },
  {
   "cell_type": "markdown",
   "id": "d4731aa7",
   "metadata": {},
   "source": [
    "#### With the help of fun "
   ]
  },
  {
   "cell_type": "code",
   "execution_count": 41,
   "id": "9f2820f9",
   "metadata": {},
   "outputs": [
    {
     "name": "stdout",
     "output_type": "stream",
     "text": [
      "the dot product of v and u is 0\n"
     ]
    }
   ],
   "source": [
    "def dotprod(v1,v2):\n",
    "    return sum([i*j for i, j in zip(v1,v2)])\n",
    "print(f\"the dot product of v and u is {dotprod(v,u)}\")"
   ]
  },
  {
   "cell_type": "markdown",
   "id": "ca6b7dcf",
   "metadata": {},
   "source": [
    "#### With the help of numpy inbuild fun dot"
   ]
  },
  {
   "cell_type": "code",
   "execution_count": 42,
   "id": "ed0119bc",
   "metadata": {},
   "outputs": [
    {
     "name": "stdout",
     "output_type": "stream",
     "text": [
      "the dot product of v and u is 0\n"
     ]
    }
   ],
   "source": [
    "prod = np.dot(u,v)\n",
    "print(f\"the dot product of v and u is {prod}\")"
   ]
  },
  {
   "cell_type": "markdown",
   "id": "1c6c8dbc",
   "metadata": {},
   "source": [
    "#### NOT a dot product"
   ]
  },
  {
   "cell_type": "code",
   "execution_count": 43,
   "id": "017e7992",
   "metadata": {},
   "outputs": [
    {
     "name": "stdout",
     "output_type": "stream",
     "text": [
      "   [-1  2]\n",
      "*  [4 2] (NOT a dot product)\n",
      "----------\n"
     ]
    },
    {
     "data": {
      "text/plain": [
       "array([-4,  4])"
      ]
     },
     "execution_count": 43,
     "metadata": {},
     "output_type": "execute_result"
    }
   ],
   "source": [
    "print(\"  \",u)\n",
    "print(\"* \",v, \"(NOT a dot product)\")\n",
    "print(\"-\"*10)\n",
    "\n",
    "u * v"
   ]
  },
  {
   "cell_type": "markdown",
   "id": "978102db",
   "metadata": {},
   "source": [
    "## Angle between Vector "
   ]
  },
  {
   "cell_type": "code",
   "execution_count": 45,
   "id": "8aa1167c",
   "metadata": {},
   "outputs": [
    {
     "name": "stdout",
     "output_type": "stream",
     "text": [
      "Angle = 1.5707963267948966 radians\n",
      "      = 90.0 degrees\n"
     ]
    }
   ],
   "source": [
    "import numpy.linalg as la\n",
    "\n",
    "def vector_angle(u, v):\n",
    "    cos_theta = u.dot(v) / la.norm(u) /la.norm(v)\n",
    "    return np.arccos(np.clip(cos_theta, -1, 1))\n",
    "theta = vector_angle(u, v)\n",
    "print(\"Angle =\", theta, \"radians\")\n",
    "print(\"      =\", theta * 180 / np.pi, \"degrees\")"
   ]
  },
  {
   "cell_type": "markdown",
   "id": "55280707",
   "metadata": {},
   "source": [
    "## Projection of vector"
   ]
  },
  {
   "cell_type": "code",
   "execution_count": 49,
   "id": "651cc07a",
   "metadata": {},
   "outputs": [
    {
     "name": "stdout",
     "output_type": "stream",
     "text": [
      "the two dim vector  v = [4 2] \n",
      "the two dim vector u = [3 2] \n"
     ]
    }
   ],
   "source": [
    "v = np.array([4,2])\n",
    "u = np.array([3,2])\n",
    "print(f\"the two dim vector  v = {v} \")\n",
    "print(f\"the two dim vector u = {u} \")"
   ]
  },
  {
   "cell_type": "code",
   "execution_count": 50,
   "id": "6577c0f3",
   "metadata": {},
   "outputs": [
    {
     "data": {
      "text/plain": [
       "array([3.69230769, 2.46153846])"
      ]
     },
     "execution_count": 50,
     "metadata": {},
     "output_type": "execute_result"
    }
   ],
   "source": [
    "u_normalized = u / la.norm(u)\n",
    "proj = v.dot(u_normalized) * u_normalized\n",
    "proj"
   ]
  },
  {
   "cell_type": "markdown",
   "id": "5bb3b96f",
   "metadata": {},
   "source": [
    "## Diabetes Dataset "
   ]
  },
  {
   "cell_type": "code",
   "execution_count": 51,
   "id": "e7805631",
   "metadata": {},
   "outputs": [
    {
     "data": {
      "text/html": [
       "<div>\n",
       "<style scoped>\n",
       "    .dataframe tbody tr th:only-of-type {\n",
       "        vertical-align: middle;\n",
       "    }\n",
       "\n",
       "    .dataframe tbody tr th {\n",
       "        vertical-align: top;\n",
       "    }\n",
       "\n",
       "    .dataframe thead th {\n",
       "        text-align: right;\n",
       "    }\n",
       "</style>\n",
       "<table border=\"1\" class=\"dataframe\">\n",
       "  <thead>\n",
       "    <tr style=\"text-align: right;\">\n",
       "      <th></th>\n",
       "      <th>Pregnancies</th>\n",
       "      <th>Glucose</th>\n",
       "      <th>BloodPressure</th>\n",
       "      <th>SkinThickness</th>\n",
       "      <th>Insulin</th>\n",
       "      <th>BMI</th>\n",
       "      <th>DiabetesPedigreeFunction</th>\n",
       "      <th>Age</th>\n",
       "      <th>Outcome</th>\n",
       "    </tr>\n",
       "  </thead>\n",
       "  <tbody>\n",
       "    <tr>\n",
       "      <th>0</th>\n",
       "      <td>6</td>\n",
       "      <td>148</td>\n",
       "      <td>72</td>\n",
       "      <td>35</td>\n",
       "      <td>0</td>\n",
       "      <td>33.6</td>\n",
       "      <td>0.627</td>\n",
       "      <td>50</td>\n",
       "      <td>1</td>\n",
       "    </tr>\n",
       "    <tr>\n",
       "      <th>1</th>\n",
       "      <td>1</td>\n",
       "      <td>85</td>\n",
       "      <td>66</td>\n",
       "      <td>29</td>\n",
       "      <td>0</td>\n",
       "      <td>26.6</td>\n",
       "      <td>0.351</td>\n",
       "      <td>31</td>\n",
       "      <td>0</td>\n",
       "    </tr>\n",
       "    <tr>\n",
       "      <th>2</th>\n",
       "      <td>8</td>\n",
       "      <td>183</td>\n",
       "      <td>64</td>\n",
       "      <td>0</td>\n",
       "      <td>0</td>\n",
       "      <td>23.3</td>\n",
       "      <td>0.672</td>\n",
       "      <td>32</td>\n",
       "      <td>1</td>\n",
       "    </tr>\n",
       "    <tr>\n",
       "      <th>3</th>\n",
       "      <td>1</td>\n",
       "      <td>89</td>\n",
       "      <td>66</td>\n",
       "      <td>23</td>\n",
       "      <td>94</td>\n",
       "      <td>28.1</td>\n",
       "      <td>0.167</td>\n",
       "      <td>21</td>\n",
       "      <td>0</td>\n",
       "    </tr>\n",
       "    <tr>\n",
       "      <th>4</th>\n",
       "      <td>0</td>\n",
       "      <td>137</td>\n",
       "      <td>40</td>\n",
       "      <td>35</td>\n",
       "      <td>168</td>\n",
       "      <td>43.1</td>\n",
       "      <td>2.288</td>\n",
       "      <td>33</td>\n",
       "      <td>1</td>\n",
       "    </tr>\n",
       "    <tr>\n",
       "      <th>...</th>\n",
       "      <td>...</td>\n",
       "      <td>...</td>\n",
       "      <td>...</td>\n",
       "      <td>...</td>\n",
       "      <td>...</td>\n",
       "      <td>...</td>\n",
       "      <td>...</td>\n",
       "      <td>...</td>\n",
       "      <td>...</td>\n",
       "    </tr>\n",
       "    <tr>\n",
       "      <th>763</th>\n",
       "      <td>10</td>\n",
       "      <td>101</td>\n",
       "      <td>76</td>\n",
       "      <td>48</td>\n",
       "      <td>180</td>\n",
       "      <td>32.9</td>\n",
       "      <td>0.171</td>\n",
       "      <td>63</td>\n",
       "      <td>0</td>\n",
       "    </tr>\n",
       "    <tr>\n",
       "      <th>764</th>\n",
       "      <td>2</td>\n",
       "      <td>122</td>\n",
       "      <td>70</td>\n",
       "      <td>27</td>\n",
       "      <td>0</td>\n",
       "      <td>36.8</td>\n",
       "      <td>0.340</td>\n",
       "      <td>27</td>\n",
       "      <td>0</td>\n",
       "    </tr>\n",
       "    <tr>\n",
       "      <th>765</th>\n",
       "      <td>5</td>\n",
       "      <td>121</td>\n",
       "      <td>72</td>\n",
       "      <td>23</td>\n",
       "      <td>112</td>\n",
       "      <td>26.2</td>\n",
       "      <td>0.245</td>\n",
       "      <td>30</td>\n",
       "      <td>0</td>\n",
       "    </tr>\n",
       "    <tr>\n",
       "      <th>766</th>\n",
       "      <td>1</td>\n",
       "      <td>126</td>\n",
       "      <td>60</td>\n",
       "      <td>0</td>\n",
       "      <td>0</td>\n",
       "      <td>30.1</td>\n",
       "      <td>0.349</td>\n",
       "      <td>47</td>\n",
       "      <td>1</td>\n",
       "    </tr>\n",
       "    <tr>\n",
       "      <th>767</th>\n",
       "      <td>1</td>\n",
       "      <td>93</td>\n",
       "      <td>70</td>\n",
       "      <td>31</td>\n",
       "      <td>0</td>\n",
       "      <td>30.4</td>\n",
       "      <td>0.315</td>\n",
       "      <td>23</td>\n",
       "      <td>0</td>\n",
       "    </tr>\n",
       "  </tbody>\n",
       "</table>\n",
       "<p>768 rows × 9 columns</p>\n",
       "</div>"
      ],
      "text/plain": [
       "     Pregnancies  Glucose  BloodPressure  SkinThickness  Insulin   BMI  \\\n",
       "0              6      148             72             35        0  33.6   \n",
       "1              1       85             66             29        0  26.6   \n",
       "2              8      183             64              0        0  23.3   \n",
       "3              1       89             66             23       94  28.1   \n",
       "4              0      137             40             35      168  43.1   \n",
       "..           ...      ...            ...            ...      ...   ...   \n",
       "763           10      101             76             48      180  32.9   \n",
       "764            2      122             70             27        0  36.8   \n",
       "765            5      121             72             23      112  26.2   \n",
       "766            1      126             60              0        0  30.1   \n",
       "767            1       93             70             31        0  30.4   \n",
       "\n",
       "     DiabetesPedigreeFunction  Age  Outcome  \n",
       "0                       0.627   50        1  \n",
       "1                       0.351   31        0  \n",
       "2                       0.672   32        1  \n",
       "3                       0.167   21        0  \n",
       "4                       2.288   33        1  \n",
       "..                        ...  ...      ...  \n",
       "763                     0.171   63        0  \n",
       "764                     0.340   27        0  \n",
       "765                     0.245   30        0  \n",
       "766                     0.349   47        1  \n",
       "767                     0.315   23        0  \n",
       "\n",
       "[768 rows x 9 columns]"
      ]
     },
     "execution_count": 51,
     "metadata": {},
     "output_type": "execute_result"
    }
   ],
   "source": [
    "data = pd.read_csv(r\"C:\\Users\\USER\\ML\\REGRESSION\\diabetic data\\diabetes.csv\")\n",
    "data"
   ]
  },
  {
   "cell_type": "markdown",
   "id": "fe593c7b",
   "metadata": {},
   "source": [
    "## Subset of Dataset"
   ]
  },
  {
   "cell_type": "code",
   "execution_count": 65,
   "id": "2358ab2a",
   "metadata": {
    "scrolled": true
   },
   "outputs": [
    {
     "data": {
      "text/html": [
       "<div>\n",
       "<style scoped>\n",
       "    .dataframe tbody tr th:only-of-type {\n",
       "        vertical-align: middle;\n",
       "    }\n",
       "\n",
       "    .dataframe tbody tr th {\n",
       "        vertical-align: top;\n",
       "    }\n",
       "\n",
       "    .dataframe thead th {\n",
       "        text-align: right;\n",
       "    }\n",
       "</style>\n",
       "<table border=\"1\" class=\"dataframe\">\n",
       "  <thead>\n",
       "    <tr style=\"text-align: right;\">\n",
       "      <th></th>\n",
       "      <th>BloodPressure</th>\n",
       "      <th>Age</th>\n",
       "      <th>Outcome</th>\n",
       "    </tr>\n",
       "  </thead>\n",
       "  <tbody>\n",
       "    <tr>\n",
       "      <th>0</th>\n",
       "      <td>72</td>\n",
       "      <td>50</td>\n",
       "      <td>1</td>\n",
       "    </tr>\n",
       "    <tr>\n",
       "      <th>1</th>\n",
       "      <td>66</td>\n",
       "      <td>31</td>\n",
       "      <td>0</td>\n",
       "    </tr>\n",
       "    <tr>\n",
       "      <th>2</th>\n",
       "      <td>64</td>\n",
       "      <td>32</td>\n",
       "      <td>1</td>\n",
       "    </tr>\n",
       "    <tr>\n",
       "      <th>3</th>\n",
       "      <td>66</td>\n",
       "      <td>21</td>\n",
       "      <td>0</td>\n",
       "    </tr>\n",
       "    <tr>\n",
       "      <th>4</th>\n",
       "      <td>40</td>\n",
       "      <td>33</td>\n",
       "      <td>1</td>\n",
       "    </tr>\n",
       "  </tbody>\n",
       "</table>\n",
       "</div>"
      ],
      "text/plain": [
       "   BloodPressure  Age  Outcome\n",
       "0             72   50        1\n",
       "1             66   31        0\n",
       "2             64   32        1\n",
       "3             66   21        0\n",
       "4             40   33        1"
      ]
     },
     "execution_count": 65,
     "metadata": {},
     "output_type": "execute_result"
    }
   ],
   "source": [
    "new_df = data[['BloodPressure','Age','Outcome']].head()\n",
    "new_df"
   ]
  },
  {
   "cell_type": "markdown",
   "id": "cb68a5fc",
   "metadata": {},
   "source": [
    "## Input features"
   ]
  },
  {
   "cell_type": "code",
   "execution_count": 66,
   "id": "1f55f5fd",
   "metadata": {
    "scrolled": true
   },
   "outputs": [
    {
     "data": {
      "text/html": [
       "<div>\n",
       "<style scoped>\n",
       "    .dataframe tbody tr th:only-of-type {\n",
       "        vertical-align: middle;\n",
       "    }\n",
       "\n",
       "    .dataframe tbody tr th {\n",
       "        vertical-align: top;\n",
       "    }\n",
       "\n",
       "    .dataframe thead th {\n",
       "        text-align: right;\n",
       "    }\n",
       "</style>\n",
       "<table border=\"1\" class=\"dataframe\">\n",
       "  <thead>\n",
       "    <tr style=\"text-align: right;\">\n",
       "      <th></th>\n",
       "      <th>BloodPressure</th>\n",
       "      <th>Age</th>\n",
       "    </tr>\n",
       "  </thead>\n",
       "  <tbody>\n",
       "    <tr>\n",
       "      <th>0</th>\n",
       "      <td>72</td>\n",
       "      <td>50</td>\n",
       "    </tr>\n",
       "    <tr>\n",
       "      <th>1</th>\n",
       "      <td>66</td>\n",
       "      <td>31</td>\n",
       "    </tr>\n",
       "    <tr>\n",
       "      <th>2</th>\n",
       "      <td>64</td>\n",
       "      <td>32</td>\n",
       "    </tr>\n",
       "    <tr>\n",
       "      <th>3</th>\n",
       "      <td>66</td>\n",
       "      <td>21</td>\n",
       "    </tr>\n",
       "    <tr>\n",
       "      <th>4</th>\n",
       "      <td>40</td>\n",
       "      <td>33</td>\n",
       "    </tr>\n",
       "  </tbody>\n",
       "</table>\n",
       "</div>"
      ],
      "text/plain": [
       "   BloodPressure  Age\n",
       "0             72   50\n",
       "1             66   31\n",
       "2             64   32\n",
       "3             66   21\n",
       "4             40   33"
      ]
     },
     "execution_count": 66,
     "metadata": {},
     "output_type": "execute_result"
    }
   ],
   "source": [
    "input_features = new_df.drop('Outcome', axis =1)\n",
    "input_features"
   ]
  },
  {
   "cell_type": "markdown",
   "id": "7644e949",
   "metadata": {},
   "source": [
    "## Output features"
   ]
  },
  {
   "cell_type": "code",
   "execution_count": 67,
   "id": "832c1398",
   "metadata": {},
   "outputs": [
    {
     "data": {
      "text/plain": [
       "0    1\n",
       "1    0\n",
       "2    1\n",
       "3    0\n",
       "4    1\n",
       "Name: Outcome, dtype: int64"
      ]
     },
     "execution_count": 67,
     "metadata": {},
     "output_type": "execute_result"
    }
   ],
   "source": [
    "output_feature = new_df['Outcome']\n",
    "output_feature"
   ]
  },
  {
   "cell_type": "markdown",
   "id": "3008ceaf",
   "metadata": {},
   "source": [
    "## Matrix of input features"
   ]
  },
  {
   "cell_type": "code",
   "execution_count": 68,
   "id": "667f06fe",
   "metadata": {
    "scrolled": true
   },
   "outputs": [
    {
     "data": {
      "text/plain": [
       "array([[72, 50],\n",
       "       [66, 31],\n",
       "       [64, 32],\n",
       "       [66, 21],\n",
       "       [40, 33]], dtype=int64)"
      ]
     },
     "execution_count": 68,
     "metadata": {},
     "output_type": "execute_result"
    }
   ],
   "source": [
    "array = np.array(input_features)\n",
    "array"
   ]
  },
  {
   "cell_type": "markdown",
   "id": "e35fa202",
   "metadata": {},
   "source": [
    "### Shape of Matrix of input features"
   ]
  },
  {
   "cell_type": "code",
   "execution_count": 69,
   "id": "700a1de2",
   "metadata": {},
   "outputs": [
    {
     "data": {
      "text/plain": [
       "(5, 2)"
      ]
     },
     "execution_count": 69,
     "metadata": {},
     "output_type": "execute_result"
    }
   ],
   "source": [
    "array.shape"
   ]
  },
  {
   "cell_type": "markdown",
   "id": "2d129622",
   "metadata": {},
   "source": [
    "### Feature Vector of First Instance"
   ]
  },
  {
   "cell_type": "code",
   "execution_count": 70,
   "id": "3fad4b96",
   "metadata": {},
   "outputs": [
    {
     "name": "stdout",
     "output_type": "stream",
     "text": [
      "[72 50]\n"
     ]
    }
   ],
   "source": [
    "x1 = array[0]  #vector\n",
    "print(x1)      #2D vector"
   ]
  },
  {
   "cell_type": "markdown",
   "id": "eaafff23",
   "metadata": {},
   "source": [
    "### Plot of feature vector"
   ]
  },
  {
   "cell_type": "code",
   "execution_count": 71,
   "id": "e8873816",
   "metadata": {},
   "outputs": [
    {
     "data": {
      "image/png": "[encoded data removed]",
      "text/plain": [
       "<Figure size 432x288 with 1 Axes>"
      ]
     },
     "metadata": {
      "needs_background": "light"
     },
     "output_type": "display_data"
    }
   ],
   "source": [
    "plot_2Dvector_arrow(x1, 100,80, color = \"r\")\n",
    "plt.grid()\n",
    "plt.show()"
   ]
  },
  {
   "cell_type": "code",
   "execution_count": 72,
   "id": "3ec96931",
   "metadata": {},
   "outputs": [],
   "source": [
    "def plot_2Dvector_point(vector, x,y, **color):\n",
    "    plt.scatter(x =vector[0],y = vector[1], **color)\n",
    "    plt.axis([0,x,0,y])\n",
    "    plt.xlabel(\"X axis\")\n",
    "    plt.ylabel(\"Y axis\")"
   ]
  },
  {
   "cell_type": "code",
   "execution_count": 73,
   "id": "c9a6f442",
   "metadata": {},
   "outputs": [
    {
     "data": {
      "image/png": "[encoded data removed]",
      "text/plain": [
       "<Figure size 432x288 with 1 Axes>"
      ]
     },
     "metadata": {
      "needs_background": "light"
     },
     "output_type": "display_data"
    }
   ],
   "source": [
    "plot_2Dvector_point(x1, 100,80, color = \"r\")\n",
    "plt.grid()\n",
    "plt.show()"
   ]
  },
  {
   "cell_type": "markdown",
   "id": "86457c69",
   "metadata": {},
   "source": [
    "### Plot of all 5 featurre Vectors in 2D space"
   ]
  },
  {
   "cell_type": "code",
   "execution_count": 74,
   "id": "5f3f9277",
   "metadata": {},
   "outputs": [
    {
     "data": {
      "image/png": "[encoded data removed]",
      "text/plain": [
       "<Figure size 432x288 with 1 Axes>"
      ]
     },
     "metadata": {
      "needs_background": "light"
     },
     "output_type": "display_data"
    }
   ],
   "source": [
    "plt.scatter(x = input_features['BloodPressure'], y= input_features['Age'])\n",
    "plt.grid()\n",
    "plt.axis([10,100,10,70])\n",
    "plt.xlabel(\"BloodPressure\")\n",
    "plt.ylabel(\"Age\")\n",
    "plt.show()"
   ]
  },
  {
   "cell_type": "code",
   "execution_count": null,
   "id": "98616b6a",
   "metadata": {},
   "outputs": [],
   "source": []
  }
 ],
 "metadata": {
  "kernelspec": {
   "display_name": "Python 3 (ipykernel)",
   "language": "python",
   "name": "python3"
  },
  "language_info": {
   "codemirror_mode": {
    "name": "ipython",
    "version": 3
   },
   "file_extension": ".py",
   "mimetype": "text/x-python",
   "name": "python",
   "nbconvert_exporter": "python",
   "pygments_lexer": "ipython3",
   "version": "3.9.7"
  }
 },
 "nbformat": 4,
 "nbformat_minor": 5
}
